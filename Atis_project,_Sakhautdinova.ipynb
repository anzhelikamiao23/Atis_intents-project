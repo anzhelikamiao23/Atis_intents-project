{
  "cells": [
    {
      "cell_type": "code",
      "execution_count": 1,
      "id": "89e70d0f",
      "metadata": {
        "id": "89e70d0f"
      },
      "outputs": [],
      "source": [
        "import pandas as pd\n",
        "import math\n",
        "import spacy\n",
        "from spacy.matcher import Matcher"
      ]
    },
    {
      "cell_type": "code",
      "execution_count": 15,
      "id": "46ee219c",
      "metadata": {
        "id": "46ee219c"
      },
      "outputs": [],
      "source": [
        "dataset = pd.read_csv(\"atis_intents.csv\",header=None)"
      ]
    },
    {
      "cell_type": "code",
      "execution_count": 16,
      "id": "ee3b3c09",
      "metadata": {
        "colab": {
          "base_uri": "https://localhost:8080/",
          "height": 424
        },
        "id": "ee3b3c09",
        "outputId": "989b1a38-3f08-41f0-fc54-86cdb4738605"
      },
      "outputs": [
        {
          "output_type": "execute_result",
          "data": {
            "text/plain": [
              "                     0                                                  1\n",
              "0          atis_flight   i want to fly from boston at 838 am and arriv...\n",
              "1          atis_flight   what flights are available from pittsburgh to...\n",
              "2     atis_flight_time   what is the arrival time in san francisco for...\n",
              "3         atis_airfare            cheapest airfare from tacoma to orlando\n",
              "4         atis_airfare   round trip fares from pittsburgh to philadelp...\n",
              "...                ...                                                ...\n",
              "4973      atis_airfare   what is the airfare for flights from denver t...\n",
              "4974       atis_flight   do you have any flights from denver to baltim...\n",
              "4975      atis_airline          which airlines fly into and out of denver\n",
              "4976       atis_flight   does continental fly from boston to san franc...\n",
              "4977       atis_flight   is there a delta flight from denver to san fr...\n",
              "\n",
              "[4978 rows x 2 columns]"
            ],
            "text/html": [
              "\n",
              "  <div id=\"df-3a35b418-81e4-4a12-81af-1428fb1ffeca\" class=\"colab-df-container\">\n",
              "    <div>\n",
              "<style scoped>\n",
              "    .dataframe tbody tr th:only-of-type {\n",
              "        vertical-align: middle;\n",
              "    }\n",
              "\n",
              "    .dataframe tbody tr th {\n",
              "        vertical-align: top;\n",
              "    }\n",
              "\n",
              "    .dataframe thead th {\n",
              "        text-align: right;\n",
              "    }\n",
              "</style>\n",
              "<table border=\"1\" class=\"dataframe\">\n",
              "  <thead>\n",
              "    <tr style=\"text-align: right;\">\n",
              "      <th></th>\n",
              "      <th>0</th>\n",
              "      <th>1</th>\n",
              "    </tr>\n",
              "  </thead>\n",
              "  <tbody>\n",
              "    <tr>\n",
              "      <th>0</th>\n",
              "      <td>atis_flight</td>\n",
              "      <td>i want to fly from boston at 838 am and arriv...</td>\n",
              "    </tr>\n",
              "    <tr>\n",
              "      <th>1</th>\n",
              "      <td>atis_flight</td>\n",
              "      <td>what flights are available from pittsburgh to...</td>\n",
              "    </tr>\n",
              "    <tr>\n",
              "      <th>2</th>\n",
              "      <td>atis_flight_time</td>\n",
              "      <td>what is the arrival time in san francisco for...</td>\n",
              "    </tr>\n",
              "    <tr>\n",
              "      <th>3</th>\n",
              "      <td>atis_airfare</td>\n",
              "      <td>cheapest airfare from tacoma to orlando</td>\n",
              "    </tr>\n",
              "    <tr>\n",
              "      <th>4</th>\n",
              "      <td>atis_airfare</td>\n",
              "      <td>round trip fares from pittsburgh to philadelp...</td>\n",
              "    </tr>\n",
              "    <tr>\n",
              "      <th>...</th>\n",
              "      <td>...</td>\n",
              "      <td>...</td>\n",
              "    </tr>\n",
              "    <tr>\n",
              "      <th>4973</th>\n",
              "      <td>atis_airfare</td>\n",
              "      <td>what is the airfare for flights from denver t...</td>\n",
              "    </tr>\n",
              "    <tr>\n",
              "      <th>4974</th>\n",
              "      <td>atis_flight</td>\n",
              "      <td>do you have any flights from denver to baltim...</td>\n",
              "    </tr>\n",
              "    <tr>\n",
              "      <th>4975</th>\n",
              "      <td>atis_airline</td>\n",
              "      <td>which airlines fly into and out of denver</td>\n",
              "    </tr>\n",
              "    <tr>\n",
              "      <th>4976</th>\n",
              "      <td>atis_flight</td>\n",
              "      <td>does continental fly from boston to san franc...</td>\n",
              "    </tr>\n",
              "    <tr>\n",
              "      <th>4977</th>\n",
              "      <td>atis_flight</td>\n",
              "      <td>is there a delta flight from denver to san fr...</td>\n",
              "    </tr>\n",
              "  </tbody>\n",
              "</table>\n",
              "<p>4978 rows × 2 columns</p>\n",
              "</div>\n",
              "    <div class=\"colab-df-buttons\">\n",
              "\n",
              "  <div class=\"colab-df-container\">\n",
              "    <button class=\"colab-df-convert\" onclick=\"convertToInteractive('df-3a35b418-81e4-4a12-81af-1428fb1ffeca')\"\n",
              "            title=\"Convert this dataframe to an interactive table.\"\n",
              "            style=\"display:none;\">\n",
              "\n",
              "  <svg xmlns=\"http://www.w3.org/2000/svg\" height=\"24px\" viewBox=\"0 -960 960 960\">\n",
              "    <path d=\"M120-120v-720h720v720H120Zm60-500h600v-160H180v160Zm220 220h160v-160H400v160Zm0 220h160v-160H400v160ZM180-400h160v-160H180v160Zm440 0h160v-160H620v160ZM180-180h160v-160H180v160Zm440 0h160v-160H620v160Z\"/>\n",
              "  </svg>\n",
              "    </button>\n",
              "\n",
              "  <style>\n",
              "    .colab-df-container {\n",
              "      display:flex;\n",
              "      gap: 12px;\n",
              "    }\n",
              "\n",
              "    .colab-df-convert {\n",
              "      background-color: #E8F0FE;\n",
              "      border: none;\n",
              "      border-radius: 50%;\n",
              "      cursor: pointer;\n",
              "      display: none;\n",
              "      fill: #1967D2;\n",
              "      height: 32px;\n",
              "      padding: 0 0 0 0;\n",
              "      width: 32px;\n",
              "    }\n",
              "\n",
              "    .colab-df-convert:hover {\n",
              "      background-color: #E2EBFA;\n",
              "      box-shadow: 0px 1px 2px rgba(60, 64, 67, 0.3), 0px 1px 3px 1px rgba(60, 64, 67, 0.15);\n",
              "      fill: #174EA6;\n",
              "    }\n",
              "\n",
              "    .colab-df-buttons div {\n",
              "      margin-bottom: 4px;\n",
              "    }\n",
              "\n",
              "    [theme=dark] .colab-df-convert {\n",
              "      background-color: #3B4455;\n",
              "      fill: #D2E3FC;\n",
              "    }\n",
              "\n",
              "    [theme=dark] .colab-df-convert:hover {\n",
              "      background-color: #434B5C;\n",
              "      box-shadow: 0px 1px 3px 1px rgba(0, 0, 0, 0.15);\n",
              "      filter: drop-shadow(0px 1px 2px rgba(0, 0, 0, 0.3));\n",
              "      fill: #FFFFFF;\n",
              "    }\n",
              "  </style>\n",
              "\n",
              "    <script>\n",
              "      const buttonEl =\n",
              "        document.querySelector('#df-3a35b418-81e4-4a12-81af-1428fb1ffeca button.colab-df-convert');\n",
              "      buttonEl.style.display =\n",
              "        google.colab.kernel.accessAllowed ? 'block' : 'none';\n",
              "\n",
              "      async function convertToInteractive(key) {\n",
              "        const element = document.querySelector('#df-3a35b418-81e4-4a12-81af-1428fb1ffeca');\n",
              "        const dataTable =\n",
              "          await google.colab.kernel.invokeFunction('convertToInteractive',\n",
              "                                                    [key], {});\n",
              "        if (!dataTable) return;\n",
              "\n",
              "        const docLinkHtml = 'Like what you see? Visit the ' +\n",
              "          '<a target=\"_blank\" href=https://colab.research.google.com/notebooks/data_table.ipynb>data table notebook</a>'\n",
              "          + ' to learn more about interactive tables.';\n",
              "        element.innerHTML = '';\n",
              "        dataTable['output_type'] = 'display_data';\n",
              "        await google.colab.output.renderOutput(dataTable, element);\n",
              "        const docLink = document.createElement('div');\n",
              "        docLink.innerHTML = docLinkHtml;\n",
              "        element.appendChild(docLink);\n",
              "      }\n",
              "    </script>\n",
              "  </div>\n",
              "\n",
              "\n",
              "<div id=\"df-93b18991-c122-4120-832c-bfe637cf5adc\">\n",
              "  <button class=\"colab-df-quickchart\" onclick=\"quickchart('df-93b18991-c122-4120-832c-bfe637cf5adc')\"\n",
              "            title=\"Suggest charts.\"\n",
              "            style=\"display:none;\">\n",
              "\n",
              "<svg xmlns=\"http://www.w3.org/2000/svg\" height=\"24px\"viewBox=\"0 0 24 24\"\n",
              "     width=\"24px\">\n",
              "    <g>\n",
              "        <path d=\"M19 3H5c-1.1 0-2 .9-2 2v14c0 1.1.9 2 2 2h14c1.1 0 2-.9 2-2V5c0-1.1-.9-2-2-2zM9 17H7v-7h2v7zm4 0h-2V7h2v10zm4 0h-2v-4h2v4z\"/>\n",
              "    </g>\n",
              "</svg>\n",
              "  </button>\n",
              "\n",
              "<style>\n",
              "  .colab-df-quickchart {\n",
              "    background-color: #E8F0FE;\n",
              "    border: none;\n",
              "    border-radius: 50%;\n",
              "    cursor: pointer;\n",
              "    display: none;\n",
              "    fill: #1967D2;\n",
              "    height: 32px;\n",
              "    padding: 0 0 0 0;\n",
              "    width: 32px;\n",
              "  }\n",
              "\n",
              "  .colab-df-quickchart:hover {\n",
              "    background-color: #E2EBFA;\n",
              "    box-shadow: 0px 1px 2px rgba(60, 64, 67, 0.3), 0px 1px 3px 1px rgba(60, 64, 67, 0.15);\n",
              "    fill: #174EA6;\n",
              "  }\n",
              "\n",
              "  [theme=dark] .colab-df-quickchart {\n",
              "    background-color: #3B4455;\n",
              "    fill: #D2E3FC;\n",
              "  }\n",
              "\n",
              "  [theme=dark] .colab-df-quickchart:hover {\n",
              "    background-color: #434B5C;\n",
              "    box-shadow: 0px 1px 3px 1px rgba(0, 0, 0, 0.15);\n",
              "    filter: drop-shadow(0px 1px 2px rgba(0, 0, 0, 0.3));\n",
              "    fill: #FFFFFF;\n",
              "  }\n",
              "</style>\n",
              "\n",
              "  <script>\n",
              "    async function quickchart(key) {\n",
              "      const charts = await google.colab.kernel.invokeFunction(\n",
              "          'suggestCharts', [key], {});\n",
              "    }\n",
              "    (() => {\n",
              "      let quickchartButtonEl =\n",
              "        document.querySelector('#df-93b18991-c122-4120-832c-bfe637cf5adc button');\n",
              "      quickchartButtonEl.style.display =\n",
              "        google.colab.kernel.accessAllowed ? 'block' : 'none';\n",
              "    })();\n",
              "  </script>\n",
              "</div>\n",
              "    </div>\n",
              "  </div>\n"
            ]
          },
          "metadata": {},
          "execution_count": 16
        }
      ],
      "source": [
        "dataset"
      ]
    },
    {
      "cell_type": "code",
      "source": [],
      "metadata": {
        "id": "UDOjj6DI4VfG"
      },
      "id": "UDOjj6DI4VfG",
      "execution_count": null,
      "outputs": []
    },
    {
      "cell_type": "markdown",
      "id": "de108958",
      "metadata": {
        "id": "de108958"
      },
      "source": [
        "# First part"
      ]
    },
    {
      "cell_type": "code",
      "source": [
        "!pip3 install -U spacy\n",
        "!python3 -m spacy download en_core_web_md"
      ],
      "metadata": {
        "id": "fN3j1cHUQQSY"
      },
      "id": "fN3j1cHUQQSY",
      "execution_count": null,
      "outputs": []
    },
    {
      "cell_type": "code",
      "execution_count": 18,
      "id": "94b10cd9",
      "metadata": {
        "id": "94b10cd9"
      },
      "outputs": [],
      "source": [
        "nlp = spacy.load(\"en_core_web_md\")\n",
        "def data_preparation(data):\n",
        "    data['obj'] = 0\n",
        "    data['verb'] = 0\n",
        "    for j in range(len(data)):\n",
        "        doc = nlp(data[1][j])\n",
        "        for token in doc:\n",
        "            for token in doc:\n",
        "                if token.dep_ == \"dobj\":\n",
        "                    obj = token\n",
        "                    verb = token.head\n",
        "                    data['obj'][j] = token\n",
        "                    data['verb'][j] = token.head\n",
        "    label_freq = data.groupby(data[0], as_index=False).count()\n",
        "    label_freq = label_freq.sort_values(by=[1], ascending=False).reset_index()\n",
        "\n",
        "    return data[data['obj'] != 0]"
      ]
    },
    {
      "cell_type": "code",
      "execution_count": null,
      "id": "0295f5ac",
      "metadata": {
        "id": "0295f5ac"
      },
      "outputs": [],
      "source": [
        "data_classes = data_preparation(dataset).reset_index()"
      ]
    },
    {
      "cell_type": "code",
      "source": [
        "dataset\n"
      ],
      "metadata": {
        "colab": {
          "base_uri": "https://localhost:8080/",
          "height": 424
        },
        "id": "RoHXQA4Y7yu4",
        "outputId": "9fe78dbd-778b-4c58-a2e5-22f9fa6555b8"
      },
      "id": "RoHXQA4Y7yu4",
      "execution_count": 20,
      "outputs": [
        {
          "output_type": "execute_result",
          "data": {
            "text/plain": [
              "                     0                                                  1  \\\n",
              "0          atis_flight   i want to fly from boston at 838 am and arriv...   \n",
              "1          atis_flight   what flights are available from pittsburgh to...   \n",
              "2     atis_flight_time   what is the arrival time in san francisco for...   \n",
              "3         atis_airfare            cheapest airfare from tacoma to orlando   \n",
              "4         atis_airfare   round trip fares from pittsburgh to philadelp...   \n",
              "...                ...                                                ...   \n",
              "4973      atis_airfare   what is the airfare for flights from denver t...   \n",
              "4974       atis_flight   do you have any flights from denver to baltim...   \n",
              "4975      atis_airline          which airlines fly into and out of denver   \n",
              "4976       atis_flight   does continental fly from boston to san franc...   \n",
              "4977       atis_flight   is there a delta flight from denver to san fr...   \n",
              "\n",
              "             obj     verb  \n",
              "0              0        0  \n",
              "1              0        0  \n",
              "2     washington  leaving  \n",
              "3              0        0  \n",
              "4              0        0  \n",
              "...          ...      ...  \n",
              "4973           0        0  \n",
              "4974     flights     have  \n",
              "4975           0        0  \n",
              "4976           0        0  \n",
              "4977           0        0  \n",
              "\n",
              "[4978 rows x 4 columns]"
            ],
            "text/html": [
              "\n",
              "  <div id=\"df-fc826011-284f-456a-b6fc-84540846bc43\" class=\"colab-df-container\">\n",
              "    <div>\n",
              "<style scoped>\n",
              "    .dataframe tbody tr th:only-of-type {\n",
              "        vertical-align: middle;\n",
              "    }\n",
              "\n",
              "    .dataframe tbody tr th {\n",
              "        vertical-align: top;\n",
              "    }\n",
              "\n",
              "    .dataframe thead th {\n",
              "        text-align: right;\n",
              "    }\n",
              "</style>\n",
              "<table border=\"1\" class=\"dataframe\">\n",
              "  <thead>\n",
              "    <tr style=\"text-align: right;\">\n",
              "      <th></th>\n",
              "      <th>0</th>\n",
              "      <th>1</th>\n",
              "      <th>obj</th>\n",
              "      <th>verb</th>\n",
              "    </tr>\n",
              "  </thead>\n",
              "  <tbody>\n",
              "    <tr>\n",
              "      <th>0</th>\n",
              "      <td>atis_flight</td>\n",
              "      <td>i want to fly from boston at 838 am and arriv...</td>\n",
              "      <td>0</td>\n",
              "      <td>0</td>\n",
              "    </tr>\n",
              "    <tr>\n",
              "      <th>1</th>\n",
              "      <td>atis_flight</td>\n",
              "      <td>what flights are available from pittsburgh to...</td>\n",
              "      <td>0</td>\n",
              "      <td>0</td>\n",
              "    </tr>\n",
              "    <tr>\n",
              "      <th>2</th>\n",
              "      <td>atis_flight_time</td>\n",
              "      <td>what is the arrival time in san francisco for...</td>\n",
              "      <td>washington</td>\n",
              "      <td>leaving</td>\n",
              "    </tr>\n",
              "    <tr>\n",
              "      <th>3</th>\n",
              "      <td>atis_airfare</td>\n",
              "      <td>cheapest airfare from tacoma to orlando</td>\n",
              "      <td>0</td>\n",
              "      <td>0</td>\n",
              "    </tr>\n",
              "    <tr>\n",
              "      <th>4</th>\n",
              "      <td>atis_airfare</td>\n",
              "      <td>round trip fares from pittsburgh to philadelp...</td>\n",
              "      <td>0</td>\n",
              "      <td>0</td>\n",
              "    </tr>\n",
              "    <tr>\n",
              "      <th>...</th>\n",
              "      <td>...</td>\n",
              "      <td>...</td>\n",
              "      <td>...</td>\n",
              "      <td>...</td>\n",
              "    </tr>\n",
              "    <tr>\n",
              "      <th>4973</th>\n",
              "      <td>atis_airfare</td>\n",
              "      <td>what is the airfare for flights from denver t...</td>\n",
              "      <td>0</td>\n",
              "      <td>0</td>\n",
              "    </tr>\n",
              "    <tr>\n",
              "      <th>4974</th>\n",
              "      <td>atis_flight</td>\n",
              "      <td>do you have any flights from denver to baltim...</td>\n",
              "      <td>flights</td>\n",
              "      <td>have</td>\n",
              "    </tr>\n",
              "    <tr>\n",
              "      <th>4975</th>\n",
              "      <td>atis_airline</td>\n",
              "      <td>which airlines fly into and out of denver</td>\n",
              "      <td>0</td>\n",
              "      <td>0</td>\n",
              "    </tr>\n",
              "    <tr>\n",
              "      <th>4976</th>\n",
              "      <td>atis_flight</td>\n",
              "      <td>does continental fly from boston to san franc...</td>\n",
              "      <td>0</td>\n",
              "      <td>0</td>\n",
              "    </tr>\n",
              "    <tr>\n",
              "      <th>4977</th>\n",
              "      <td>atis_flight</td>\n",
              "      <td>is there a delta flight from denver to san fr...</td>\n",
              "      <td>0</td>\n",
              "      <td>0</td>\n",
              "    </tr>\n",
              "  </tbody>\n",
              "</table>\n",
              "<p>4978 rows × 4 columns</p>\n",
              "</div>\n",
              "    <div class=\"colab-df-buttons\">\n",
              "\n",
              "  <div class=\"colab-df-container\">\n",
              "    <button class=\"colab-df-convert\" onclick=\"convertToInteractive('df-fc826011-284f-456a-b6fc-84540846bc43')\"\n",
              "            title=\"Convert this dataframe to an interactive table.\"\n",
              "            style=\"display:none;\">\n",
              "\n",
              "  <svg xmlns=\"http://www.w3.org/2000/svg\" height=\"24px\" viewBox=\"0 -960 960 960\">\n",
              "    <path d=\"M120-120v-720h720v720H120Zm60-500h600v-160H180v160Zm220 220h160v-160H400v160Zm0 220h160v-160H400v160ZM180-400h160v-160H180v160Zm440 0h160v-160H620v160ZM180-180h160v-160H180v160Zm440 0h160v-160H620v160Z\"/>\n",
              "  </svg>\n",
              "    </button>\n",
              "\n",
              "  <style>\n",
              "    .colab-df-container {\n",
              "      display:flex;\n",
              "      gap: 12px;\n",
              "    }\n",
              "\n",
              "    .colab-df-convert {\n",
              "      background-color: #E8F0FE;\n",
              "      border: none;\n",
              "      border-radius: 50%;\n",
              "      cursor: pointer;\n",
              "      display: none;\n",
              "      fill: #1967D2;\n",
              "      height: 32px;\n",
              "      padding: 0 0 0 0;\n",
              "      width: 32px;\n",
              "    }\n",
              "\n",
              "    .colab-df-convert:hover {\n",
              "      background-color: #E2EBFA;\n",
              "      box-shadow: 0px 1px 2px rgba(60, 64, 67, 0.3), 0px 1px 3px 1px rgba(60, 64, 67, 0.15);\n",
              "      fill: #174EA6;\n",
              "    }\n",
              "\n",
              "    .colab-df-buttons div {\n",
              "      margin-bottom: 4px;\n",
              "    }\n",
              "\n",
              "    [theme=dark] .colab-df-convert {\n",
              "      background-color: #3B4455;\n",
              "      fill: #D2E3FC;\n",
              "    }\n",
              "\n",
              "    [theme=dark] .colab-df-convert:hover {\n",
              "      background-color: #434B5C;\n",
              "      box-shadow: 0px 1px 3px 1px rgba(0, 0, 0, 0.15);\n",
              "      filter: drop-shadow(0px 1px 2px rgba(0, 0, 0, 0.3));\n",
              "      fill: #FFFFFF;\n",
              "    }\n",
              "  </style>\n",
              "\n",
              "    <script>\n",
              "      const buttonEl =\n",
              "        document.querySelector('#df-fc826011-284f-456a-b6fc-84540846bc43 button.colab-df-convert');\n",
              "      buttonEl.style.display =\n",
              "        google.colab.kernel.accessAllowed ? 'block' : 'none';\n",
              "\n",
              "      async function convertToInteractive(key) {\n",
              "        const element = document.querySelector('#df-fc826011-284f-456a-b6fc-84540846bc43');\n",
              "        const dataTable =\n",
              "          await google.colab.kernel.invokeFunction('convertToInteractive',\n",
              "                                                    [key], {});\n",
              "        if (!dataTable) return;\n",
              "\n",
              "        const docLinkHtml = 'Like what you see? Visit the ' +\n",
              "          '<a target=\"_blank\" href=https://colab.research.google.com/notebooks/data_table.ipynb>data table notebook</a>'\n",
              "          + ' to learn more about interactive tables.';\n",
              "        element.innerHTML = '';\n",
              "        dataTable['output_type'] = 'display_data';\n",
              "        await google.colab.output.renderOutput(dataTable, element);\n",
              "        const docLink = document.createElement('div');\n",
              "        docLink.innerHTML = docLinkHtml;\n",
              "        element.appendChild(docLink);\n",
              "      }\n",
              "    </script>\n",
              "  </div>\n",
              "\n",
              "\n",
              "<div id=\"df-b9a96dab-68e3-4ab1-89fb-eeb50b99eac7\">\n",
              "  <button class=\"colab-df-quickchart\" onclick=\"quickchart('df-b9a96dab-68e3-4ab1-89fb-eeb50b99eac7')\"\n",
              "            title=\"Suggest charts.\"\n",
              "            style=\"display:none;\">\n",
              "\n",
              "<svg xmlns=\"http://www.w3.org/2000/svg\" height=\"24px\"viewBox=\"0 0 24 24\"\n",
              "     width=\"24px\">\n",
              "    <g>\n",
              "        <path d=\"M19 3H5c-1.1 0-2 .9-2 2v14c0 1.1.9 2 2 2h14c1.1 0 2-.9 2-2V5c0-1.1-.9-2-2-2zM9 17H7v-7h2v7zm4 0h-2V7h2v10zm4 0h-2v-4h2v4z\"/>\n",
              "    </g>\n",
              "</svg>\n",
              "  </button>\n",
              "\n",
              "<style>\n",
              "  .colab-df-quickchart {\n",
              "    background-color: #E8F0FE;\n",
              "    border: none;\n",
              "    border-radius: 50%;\n",
              "    cursor: pointer;\n",
              "    display: none;\n",
              "    fill: #1967D2;\n",
              "    height: 32px;\n",
              "    padding: 0 0 0 0;\n",
              "    width: 32px;\n",
              "  }\n",
              "\n",
              "  .colab-df-quickchart:hover {\n",
              "    background-color: #E2EBFA;\n",
              "    box-shadow: 0px 1px 2px rgba(60, 64, 67, 0.3), 0px 1px 3px 1px rgba(60, 64, 67, 0.15);\n",
              "    fill: #174EA6;\n",
              "  }\n",
              "\n",
              "  [theme=dark] .colab-df-quickchart {\n",
              "    background-color: #3B4455;\n",
              "    fill: #D2E3FC;\n",
              "  }\n",
              "\n",
              "  [theme=dark] .colab-df-quickchart:hover {\n",
              "    background-color: #434B5C;\n",
              "    box-shadow: 0px 1px 3px 1px rgba(0, 0, 0, 0.15);\n",
              "    filter: drop-shadow(0px 1px 2px rgba(0, 0, 0, 0.3));\n",
              "    fill: #FFFFFF;\n",
              "  }\n",
              "</style>\n",
              "\n",
              "  <script>\n",
              "    async function quickchart(key) {\n",
              "      const charts = await google.colab.kernel.invokeFunction(\n",
              "          'suggestCharts', [key], {});\n",
              "    }\n",
              "    (() => {\n",
              "      let quickchartButtonEl =\n",
              "        document.querySelector('#df-b9a96dab-68e3-4ab1-89fb-eeb50b99eac7 button');\n",
              "      quickchartButtonEl.style.display =\n",
              "        google.colab.kernel.accessAllowed ? 'block' : 'none';\n",
              "    })();\n",
              "  </script>\n",
              "</div>\n",
              "    </div>\n",
              "  </div>\n"
            ]
          },
          "metadata": {},
          "execution_count": 20
        }
      ]
    },
    {
      "cell_type": "code",
      "execution_count": 9,
      "id": "3a9ee039",
      "metadata": {
        "id": "3a9ee039"
      },
      "outputs": [],
      "source": [
        "def air_request(sentence, data_classes):\n",
        "\n",
        "    def define_date(doc):\n",
        "        matcher = Matcher(nlp.vocab)\n",
        "        pattern = [{'ENT_TYPE': 'DATE'}]\n",
        "        matcher.add('date', [pattern])\n",
        "        matches = matcher(doc)\n",
        "        dates = []\n",
        "        for mid, start, end in matches:\n",
        "            return (doc[start:end])\n",
        "\n",
        "    def define_time(doc):\n",
        "        matcher = Matcher(nlp.vocab)\n",
        "        pattern = [{'ENT_TYPE': 'TIME'}]\n",
        "        matcher.add('time', [pattern])\n",
        "        matches = matcher(doc)\n",
        "        timing = []\n",
        "        for i in range(len(matches)):\n",
        "            timing.append(doc[matches[i][1]+1])\n",
        "        return timing\n",
        "\n",
        "    def define_place(doc):\n",
        "        nlp = spacy.load(\"en_core_web_sm\")\n",
        "        matcher = Matcher(nlp.vocab)\n",
        "        pattern = [{\"POS\": \"ADP\"}, {\"ENT_TYPE\": \"GPE\"}]\n",
        "        matcher.add(\"prepositionLocation\", [pattern])\n",
        "        matches = matcher(doc)\n",
        "        places = []\n",
        "        for i in range(len(matches)):\n",
        "            places.append(doc[matches[i][1]+1])\n",
        "        return places\n",
        "        #for mid, start, end in matches:\n",
        "        #    return (doc[start:end])\n",
        "\n",
        "    def define_organisation(doc):\n",
        "        matcher = Matcher(nlp.vocab)\n",
        "        pattern = [{\"ENT_TYPE\": \"ORG\", \"OP\": \"+\"}]\n",
        "        matcher.add(\"AirlineName\", [pattern])\n",
        "        matches = matcher(doc)\n",
        "        organisations = []\n",
        "        for i in range(len(matches)):\n",
        "            organisations.append(doc[matches[i][1]+1])\n",
        "        return organisations\n",
        "\n",
        "    def define_abbreviation(doc):\n",
        "        matcher = Matcher(nlp.vocab)\n",
        "        pattern1 = [{\"TEXT\": {\"REGEX\": \"\\w{1,2}\\d{1,2}\"}}]\n",
        "        pattern2 = [{\"SHAPE\": { \"IN\": [\"x\", \"xx\"]}}, {\"SHAPE\": {\"IN\": [\"d\", \"dd\"]}}]\n",
        "        pattern3 = [{\"TEXT\": {\"IN\": [\"class\", \"code\", \"abbrev\", \"abbreviation\"]}}, {\"SHAPE\": { \"IN\": [\"x\", \"xx\"]}}]\n",
        "        pattern4 =   [{\"POS\": \"NOUN\", \"SHAPE\": { \"IN\": [\"x\", \"xx\"]}}]\n",
        "        matcher.add(\"abbrevEntities\", [pattern1, pattern2, pattern3, pattern4])\n",
        "        matches = matcher(doc)\n",
        "        abbrev = []\n",
        "        for mid, start, end in matches:\n",
        "            abbrev.append(doc[start:end])\n",
        "        return abbrev\n",
        "\n",
        "    def define_intention(obj, verb, data_classes):\n",
        "        average_similarity = []\n",
        "        for i in range(0, len(data_classes)):\n",
        "            average_similarity.append((obj.similarity(data_classes['obj'][i]) + verb.similarity(data_classes['verb'][i]))/2)\n",
        "        _, idx = max((val, idx) for (idx, val) in enumerate(average_similarity))\n",
        "        return data_classes[0][idx]\n",
        "\n",
        "    def define_intention_else(doc, data_classes):\n",
        "        all_similarity = []\n",
        "        for i in range(0, len(data_classes)):\n",
        "            all_similarity.append(doc.similarity(nlp(data_classes[0][i])))\n",
        "        _, idx = max((val, idx) for (idx, val) in enumerate(all_similarity))\n",
        "        return data_classes[0][idx]\n",
        "\n",
        "\n",
        "    doc = nlp(sentence)\n",
        "    for token in doc:\n",
        "        if token.dep_ == \"dobj\":\n",
        "            object_sent = token\n",
        "            verb_sent = token.head\n",
        "            if len(define_place(doc)) == 1 or define_date(doc) is None:\n",
        "                return {'utterance' : sentence, 'intent ': define_intention(object_sent, verb_sent, data_classes),\n",
        "                 'entities': {'date': define_date(doc), 'organizations' : define_organisation(doc),\n",
        "                'abbreviation' : define_abbreviation(doc), 'locations': {\n",
        "                  'from': define_place(doc)},\n",
        "                    }\n",
        "                   }\n",
        "            else:\n",
        "                return {'utterance' : sentence, 'intent ': define_intention(object_sent, verb_sent, data_classes),\n",
        "                 'entities': {'date': define_date(doc), 'organizations' : define_organisation(doc),\n",
        "                'abbreviation' : define_abbreviation(doc), 'locations': {\n",
        "                  'from': define_place(doc)[0], 'to': define_place(doc)[1]},\n",
        "                    }\n",
        "                   }\n",
        "        else:\n",
        "            if len(define_place(doc)) == 1 or define_date(doc) is None:\n",
        "                return {'utterance' : sentence, 'intent ': define_intention_else(doc, data_classes),\n",
        "                 'entities': {'date': define_date(doc), 'organizations' : define_organisation(doc),\n",
        "                'abbreviation' : define_abbreviation(doc), 'locations': {\n",
        "                  'from': define_place(doc)},\n",
        "                    }\n",
        "                   }\n",
        "            else:\n",
        "                return {'utterance' : sentence, 'intent ': define_intention_else(doc, data_classes),\n",
        "                 'entities': {'date': define_date(doc), 'organizations' : define_organisation(doc),\n",
        "                'abbreviation' : define_abbreviation(doc), 'locations': {\n",
        "                  'from': define_place(doc)[0], 'to': define_place(doc)[1]},\n",
        "                    }\n",
        "                   }"
      ]
    },
    {
      "cell_type": "code",
      "execution_count": 10,
      "id": "91ca8b4b",
      "metadata": {
        "colab": {
          "base_uri": "https://localhost:8080/"
        },
        "id": "91ca8b4b",
        "outputId": "884fe4e9-88a2-4019-ed1a-3ec44ffd7530"
      },
      "outputs": [
        {
          "output_type": "stream",
          "name": "stderr",
          "text": [
            "<ipython-input-9-58a731c5b818>:68: UserWarning: [W008] Evaluating Doc.similarity based on empty vectors.\n",
            "  all_similarity.append(doc.similarity(nlp(data_classes[0][i])))\n"
          ]
        },
        {
          "output_type": "execute_result",
          "data": {
            "text/plain": [
              "{'utterance': 'i need a flight after 6 pm on wednesday from oakland to salt lake city',\n",
              " 'intent ': 'atis_flight',\n",
              " 'entities': {'date': wednesday,\n",
              "  'organizations': [],\n",
              "  'abbreviation': [pm],\n",
              "  'locations': {'from': oakland, 'to': salt}}}"
            ]
          },
          "metadata": {},
          "execution_count": 10
        }
      ],
      "source": [
        "air_request(\"i need a flight after 6 pm on wednesday from oakland to salt lake city\", data_classes)"
      ]
    },
    {
      "cell_type": "code",
      "execution_count": 11,
      "id": "db36a06f",
      "metadata": {
        "colab": {
          "base_uri": "https://localhost:8080/"
        },
        "id": "db36a06f",
        "outputId": "f31cbbf3-d6a4-4e45-a0fa-befc1e7a8034"
      },
      "outputs": [
        {
          "output_type": "stream",
          "name": "stderr",
          "text": [
            "<ipython-input-9-58a731c5b818>:68: UserWarning: [W008] Evaluating Doc.similarity based on empty vectors.\n",
            "  all_similarity.append(doc.similarity(nlp(data_classes[0][i])))\n"
          ]
        },
        {
          "output_type": "execute_result",
          "data": {
            "text/plain": [
              "{'utterance': 'what is the earliest united airlines flight flying from denver',\n",
              " 'intent ': 'atis_flight',\n",
              " 'entities': {'date': None,\n",
              "  'organizations': [],\n",
              "  'abbreviation': [],\n",
              "  'locations': {'from': [denver]}}}"
            ]
          },
          "metadata": {},
          "execution_count": 11
        }
      ],
      "source": [
        "air_request(\"what is the earliest united airlines flight flying from denver\", data_classes)"
      ]
    },
    {
      "cell_type": "code",
      "execution_count": 12,
      "id": "2fc0f226",
      "metadata": {
        "colab": {
          "base_uri": "https://localhost:8080/"
        },
        "id": "2fc0f226",
        "outputId": "687527ea-3fc5-4cb1-9427-1d25d854333e"
      },
      "outputs": [
        {
          "output_type": "stream",
          "name": "stderr",
          "text": [
            "<ipython-input-9-58a731c5b818>:68: UserWarning: [W008] Evaluating Doc.similarity based on empty vectors.\n",
            "  all_similarity.append(doc.similarity(nlp(data_classes[0][i])))\n"
          ]
        },
        {
          "output_type": "execute_result",
          "data": {
            "text/plain": [
              "{'utterance': 'what is booking class c',\n",
              " 'intent ': 'atis_flight',\n",
              " 'entities': {'date': None,\n",
              "  'organizations': [],\n",
              "  'abbreviation': [class c, c],\n",
              "  'locations': {'from': []}}}"
            ]
          },
          "metadata": {},
          "execution_count": 12
        }
      ],
      "source": [
        "air_request('what is booking class c', data_classes)"
      ]
    },
    {
      "cell_type": "markdown",
      "id": "9d2a4b4c",
      "metadata": {
        "id": "9d2a4b4c"
      },
      "source": [
        "# Machine Learning Techniques Part 2"
      ]
    },
    {
      "cell_type": "markdown",
      "id": "8e433cf2",
      "metadata": {
        "id": "8e433cf2"
      },
      "source": [
        "# Data Preparation - Bag-of-words model"
      ]
    },
    {
      "cell_type": "code",
      "execution_count": 21,
      "id": "c880510f",
      "metadata": {
        "id": "c880510f"
      },
      "outputs": [],
      "source": [
        "from sklearn.feature_extraction.text import CountVectorizer\n",
        "from sklearn.model_selection import train_test_split"
      ]
    },
    {
      "cell_type": "code",
      "execution_count": 22,
      "id": "68c5cd2b",
      "metadata": {
        "colab": {
          "base_uri": "https://localhost:8080/",
          "height": 424
        },
        "id": "68c5cd2b",
        "outputId": "5873a9ba-659e-45af-b723-da708c70c6fb"
      },
      "outputs": [
        {
          "output_type": "execute_result",
          "data": {
            "text/plain": [
              "                     0                                                  1  \\\n",
              "0          atis_flight   i want to fly from boston at 838 am and arriv...   \n",
              "1          atis_flight   what flights are available from pittsburgh to...   \n",
              "2     atis_flight_time   what is the arrival time in san francisco for...   \n",
              "3         atis_airfare            cheapest airfare from tacoma to orlando   \n",
              "4         atis_airfare   round trip fares from pittsburgh to philadelp...   \n",
              "...                ...                                                ...   \n",
              "4973      atis_airfare   what is the airfare for flights from denver t...   \n",
              "4974       atis_flight   do you have any flights from denver to baltim...   \n",
              "4975      atis_airline          which airlines fly into and out of denver   \n",
              "4976       atis_flight   does continental fly from boston to san franc...   \n",
              "4977       atis_flight   is there a delta flight from denver to san fr...   \n",
              "\n",
              "             obj     verb  \n",
              "0              0        0  \n",
              "1              0        0  \n",
              "2     washington  leaving  \n",
              "3              0        0  \n",
              "4              0        0  \n",
              "...          ...      ...  \n",
              "4973           0        0  \n",
              "4974     flights     have  \n",
              "4975           0        0  \n",
              "4976           0        0  \n",
              "4977           0        0  \n",
              "\n",
              "[4978 rows x 4 columns]"
            ],
            "text/html": [
              "\n",
              "  <div id=\"df-5624e9de-1518-43b9-ac73-8929fa3785f5\" class=\"colab-df-container\">\n",
              "    <div>\n",
              "<style scoped>\n",
              "    .dataframe tbody tr th:only-of-type {\n",
              "        vertical-align: middle;\n",
              "    }\n",
              "\n",
              "    .dataframe tbody tr th {\n",
              "        vertical-align: top;\n",
              "    }\n",
              "\n",
              "    .dataframe thead th {\n",
              "        text-align: right;\n",
              "    }\n",
              "</style>\n",
              "<table border=\"1\" class=\"dataframe\">\n",
              "  <thead>\n",
              "    <tr style=\"text-align: right;\">\n",
              "      <th></th>\n",
              "      <th>0</th>\n",
              "      <th>1</th>\n",
              "      <th>obj</th>\n",
              "      <th>verb</th>\n",
              "    </tr>\n",
              "  </thead>\n",
              "  <tbody>\n",
              "    <tr>\n",
              "      <th>0</th>\n",
              "      <td>atis_flight</td>\n",
              "      <td>i want to fly from boston at 838 am and arriv...</td>\n",
              "      <td>0</td>\n",
              "      <td>0</td>\n",
              "    </tr>\n",
              "    <tr>\n",
              "      <th>1</th>\n",
              "      <td>atis_flight</td>\n",
              "      <td>what flights are available from pittsburgh to...</td>\n",
              "      <td>0</td>\n",
              "      <td>0</td>\n",
              "    </tr>\n",
              "    <tr>\n",
              "      <th>2</th>\n",
              "      <td>atis_flight_time</td>\n",
              "      <td>what is the arrival time in san francisco for...</td>\n",
              "      <td>washington</td>\n",
              "      <td>leaving</td>\n",
              "    </tr>\n",
              "    <tr>\n",
              "      <th>3</th>\n",
              "      <td>atis_airfare</td>\n",
              "      <td>cheapest airfare from tacoma to orlando</td>\n",
              "      <td>0</td>\n",
              "      <td>0</td>\n",
              "    </tr>\n",
              "    <tr>\n",
              "      <th>4</th>\n",
              "      <td>atis_airfare</td>\n",
              "      <td>round trip fares from pittsburgh to philadelp...</td>\n",
              "      <td>0</td>\n",
              "      <td>0</td>\n",
              "    </tr>\n",
              "    <tr>\n",
              "      <th>...</th>\n",
              "      <td>...</td>\n",
              "      <td>...</td>\n",
              "      <td>...</td>\n",
              "      <td>...</td>\n",
              "    </tr>\n",
              "    <tr>\n",
              "      <th>4973</th>\n",
              "      <td>atis_airfare</td>\n",
              "      <td>what is the airfare for flights from denver t...</td>\n",
              "      <td>0</td>\n",
              "      <td>0</td>\n",
              "    </tr>\n",
              "    <tr>\n",
              "      <th>4974</th>\n",
              "      <td>atis_flight</td>\n",
              "      <td>do you have any flights from denver to baltim...</td>\n",
              "      <td>flights</td>\n",
              "      <td>have</td>\n",
              "    </tr>\n",
              "    <tr>\n",
              "      <th>4975</th>\n",
              "      <td>atis_airline</td>\n",
              "      <td>which airlines fly into and out of denver</td>\n",
              "      <td>0</td>\n",
              "      <td>0</td>\n",
              "    </tr>\n",
              "    <tr>\n",
              "      <th>4976</th>\n",
              "      <td>atis_flight</td>\n",
              "      <td>does continental fly from boston to san franc...</td>\n",
              "      <td>0</td>\n",
              "      <td>0</td>\n",
              "    </tr>\n",
              "    <tr>\n",
              "      <th>4977</th>\n",
              "      <td>atis_flight</td>\n",
              "      <td>is there a delta flight from denver to san fr...</td>\n",
              "      <td>0</td>\n",
              "      <td>0</td>\n",
              "    </tr>\n",
              "  </tbody>\n",
              "</table>\n",
              "<p>4978 rows × 4 columns</p>\n",
              "</div>\n",
              "    <div class=\"colab-df-buttons\">\n",
              "\n",
              "  <div class=\"colab-df-container\">\n",
              "    <button class=\"colab-df-convert\" onclick=\"convertToInteractive('df-5624e9de-1518-43b9-ac73-8929fa3785f5')\"\n",
              "            title=\"Convert this dataframe to an interactive table.\"\n",
              "            style=\"display:none;\">\n",
              "\n",
              "  <svg xmlns=\"http://www.w3.org/2000/svg\" height=\"24px\" viewBox=\"0 -960 960 960\">\n",
              "    <path d=\"M120-120v-720h720v720H120Zm60-500h600v-160H180v160Zm220 220h160v-160H400v160Zm0 220h160v-160H400v160ZM180-400h160v-160H180v160Zm440 0h160v-160H620v160ZM180-180h160v-160H180v160Zm440 0h160v-160H620v160Z\"/>\n",
              "  </svg>\n",
              "    </button>\n",
              "\n",
              "  <style>\n",
              "    .colab-df-container {\n",
              "      display:flex;\n",
              "      gap: 12px;\n",
              "    }\n",
              "\n",
              "    .colab-df-convert {\n",
              "      background-color: #E8F0FE;\n",
              "      border: none;\n",
              "      border-radius: 50%;\n",
              "      cursor: pointer;\n",
              "      display: none;\n",
              "      fill: #1967D2;\n",
              "      height: 32px;\n",
              "      padding: 0 0 0 0;\n",
              "      width: 32px;\n",
              "    }\n",
              "\n",
              "    .colab-df-convert:hover {\n",
              "      background-color: #E2EBFA;\n",
              "      box-shadow: 0px 1px 2px rgba(60, 64, 67, 0.3), 0px 1px 3px 1px rgba(60, 64, 67, 0.15);\n",
              "      fill: #174EA6;\n",
              "    }\n",
              "\n",
              "    .colab-df-buttons div {\n",
              "      margin-bottom: 4px;\n",
              "    }\n",
              "\n",
              "    [theme=dark] .colab-df-convert {\n",
              "      background-color: #3B4455;\n",
              "      fill: #D2E3FC;\n",
              "    }\n",
              "\n",
              "    [theme=dark] .colab-df-convert:hover {\n",
              "      background-color: #434B5C;\n",
              "      box-shadow: 0px 1px 3px 1px rgba(0, 0, 0, 0.15);\n",
              "      filter: drop-shadow(0px 1px 2px rgba(0, 0, 0, 0.3));\n",
              "      fill: #FFFFFF;\n",
              "    }\n",
              "  </style>\n",
              "\n",
              "    <script>\n",
              "      const buttonEl =\n",
              "        document.querySelector('#df-5624e9de-1518-43b9-ac73-8929fa3785f5 button.colab-df-convert');\n",
              "      buttonEl.style.display =\n",
              "        google.colab.kernel.accessAllowed ? 'block' : 'none';\n",
              "\n",
              "      async function convertToInteractive(key) {\n",
              "        const element = document.querySelector('#df-5624e9de-1518-43b9-ac73-8929fa3785f5');\n",
              "        const dataTable =\n",
              "          await google.colab.kernel.invokeFunction('convertToInteractive',\n",
              "                                                    [key], {});\n",
              "        if (!dataTable) return;\n",
              "\n",
              "        const docLinkHtml = 'Like what you see? Visit the ' +\n",
              "          '<a target=\"_blank\" href=https://colab.research.google.com/notebooks/data_table.ipynb>data table notebook</a>'\n",
              "          + ' to learn more about interactive tables.';\n",
              "        element.innerHTML = '';\n",
              "        dataTable['output_type'] = 'display_data';\n",
              "        await google.colab.output.renderOutput(dataTable, element);\n",
              "        const docLink = document.createElement('div');\n",
              "        docLink.innerHTML = docLinkHtml;\n",
              "        element.appendChild(docLink);\n",
              "      }\n",
              "    </script>\n",
              "  </div>\n",
              "\n",
              "\n",
              "<div id=\"df-385d3ee7-5de9-4567-9c54-b50a12be1d29\">\n",
              "  <button class=\"colab-df-quickchart\" onclick=\"quickchart('df-385d3ee7-5de9-4567-9c54-b50a12be1d29')\"\n",
              "            title=\"Suggest charts.\"\n",
              "            style=\"display:none;\">\n",
              "\n",
              "<svg xmlns=\"http://www.w3.org/2000/svg\" height=\"24px\"viewBox=\"0 0 24 24\"\n",
              "     width=\"24px\">\n",
              "    <g>\n",
              "        <path d=\"M19 3H5c-1.1 0-2 .9-2 2v14c0 1.1.9 2 2 2h14c1.1 0 2-.9 2-2V5c0-1.1-.9-2-2-2zM9 17H7v-7h2v7zm4 0h-2V7h2v10zm4 0h-2v-4h2v4z\"/>\n",
              "    </g>\n",
              "</svg>\n",
              "  </button>\n",
              "\n",
              "<style>\n",
              "  .colab-df-quickchart {\n",
              "    background-color: #E8F0FE;\n",
              "    border: none;\n",
              "    border-radius: 50%;\n",
              "    cursor: pointer;\n",
              "    display: none;\n",
              "    fill: #1967D2;\n",
              "    height: 32px;\n",
              "    padding: 0 0 0 0;\n",
              "    width: 32px;\n",
              "  }\n",
              "\n",
              "  .colab-df-quickchart:hover {\n",
              "    background-color: #E2EBFA;\n",
              "    box-shadow: 0px 1px 2px rgba(60, 64, 67, 0.3), 0px 1px 3px 1px rgba(60, 64, 67, 0.15);\n",
              "    fill: #174EA6;\n",
              "  }\n",
              "\n",
              "  [theme=dark] .colab-df-quickchart {\n",
              "    background-color: #3B4455;\n",
              "    fill: #D2E3FC;\n",
              "  }\n",
              "\n",
              "  [theme=dark] .colab-df-quickchart:hover {\n",
              "    background-color: #434B5C;\n",
              "    box-shadow: 0px 1px 3px 1px rgba(0, 0, 0, 0.15);\n",
              "    filter: drop-shadow(0px 1px 2px rgba(0, 0, 0, 0.3));\n",
              "    fill: #FFFFFF;\n",
              "  }\n",
              "</style>\n",
              "\n",
              "  <script>\n",
              "    async function quickchart(key) {\n",
              "      const charts = await google.colab.kernel.invokeFunction(\n",
              "          'suggestCharts', [key], {});\n",
              "    }\n",
              "    (() => {\n",
              "      let quickchartButtonEl =\n",
              "        document.querySelector('#df-385d3ee7-5de9-4567-9c54-b50a12be1d29 button');\n",
              "      quickchartButtonEl.style.display =\n",
              "        google.colab.kernel.accessAllowed ? 'block' : 'none';\n",
              "    })();\n",
              "  </script>\n",
              "</div>\n",
              "    </div>\n",
              "  </div>\n"
            ]
          },
          "metadata": {},
          "execution_count": 22
        }
      ],
      "source": [
        "dataset"
      ]
    },
    {
      "cell_type": "code",
      "execution_count": 23,
      "id": "4b4f6e5a",
      "metadata": {
        "id": "4b4f6e5a"
      },
      "outputs": [],
      "source": [
        "y, X = dataset[0], dataset[1]\n",
        "X_train, X_test, y_train, y_test = train_test_split(X, y, test_size=0.3, random_state=42)"
      ]
    },
    {
      "cell_type": "code",
      "source": [
        "X_test"
      ],
      "metadata": {
        "colab": {
          "base_uri": "https://localhost:8080/"
        },
        "id": "XjdvvkMuaPBf",
        "outputId": "20ab7930-9ec6-46ce-a336-4e2e60c3fdb0"
      },
      "id": "XjdvvkMuaPBf",
      "execution_count": 24,
      "outputs": [
        {
          "output_type": "execute_result",
          "data": {
            "text/plain": [
              "3992     i want to make a round trip flight from washi...\n",
              "144      what are the coach fares from charlotte to la...\n",
              "3062     now i need a flight from detroit to san diego...\n",
              "4824                                     houston airports\n",
              "2574     show me the cheapest one way fares from san d...\n",
              "                              ...                        \n",
              "4264     show me the cheapest flights from dallas to b...\n",
              "2297                                   what airline is hp\n",
              "256      show me flights from seattle to san francisco...\n",
              "2135     what are the cheapest one way flights from de...\n",
              "2389                     can i get a rental car in dallas\n",
              "Name: 1, Length: 1494, dtype: object"
            ]
          },
          "metadata": {},
          "execution_count": 24
        }
      ]
    },
    {
      "cell_type": "code",
      "source": [
        "y_test"
      ],
      "metadata": {
        "colab": {
          "base_uri": "https://localhost:8080/"
        },
        "id": "75O2syflaYoX",
        "outputId": "5f0eb66b-de01-40c2-bb82-954a826f8e01"
      },
      "id": "75O2syflaYoX",
      "execution_count": 25,
      "outputs": [
        {
          "output_type": "execute_result",
          "data": {
            "text/plain": [
              "3992            atis_flight\n",
              "144            atis_airfare\n",
              "3062            atis_flight\n",
              "4824           atis_airport\n",
              "2574           atis_airfare\n",
              "               ...         \n",
              "4264            atis_flight\n",
              "2297           atis_airline\n",
              "256             atis_flight\n",
              "2135            atis_flight\n",
              "2389    atis_ground_service\n",
              "Name: 0, Length: 1494, dtype: object"
            ]
          },
          "metadata": {},
          "execution_count": 25
        }
      ]
    },
    {
      "cell_type": "markdown",
      "id": "8fb1b506",
      "metadata": {
        "id": "8fb1b506"
      },
      "source": [
        "# Logistic Regression"
      ]
    },
    {
      "cell_type": "code",
      "execution_count": 26,
      "id": "4c0a99fd",
      "metadata": {
        "id": "4c0a99fd"
      },
      "outputs": [],
      "source": [
        "from sklearn.linear_model import LogisticRegression\n",
        "\n",
        "classifier = LogisticRegression()\n"
      ]
    },
    {
      "cell_type": "code",
      "source": [
        "accuracy_scores = []\n",
        "for i in [(1, 1), (2, 2), (3, 3), (4, 4), (5, 5)]:\n",
        "    vectorizer = CountVectorizer(ngram_range=i)\n",
        "    vectorizer.fit(X_train)\n",
        "    X_train_log = vectorizer.transform(X_train)\n",
        "    X_test_log  = vectorizer.transform(X_test)\n",
        "    classifier = LogisticRegression()\n",
        "    classifier.fit(X_train_log, y_train)\n",
        "    X_test_log = vectorizer.transform(X_test)\n",
        "    score = classifier.score(X_test_log, y_test)\n",
        "    accuracy_scores.append(score)"
      ],
      "metadata": {
        "id": "61xo2ngNZQEg",
        "colab": {
          "base_uri": "https://localhost:8080/"
        },
        "outputId": "1ec0d517-aed5-4458-ddbf-d02e9ab9bb22"
      },
      "id": "61xo2ngNZQEg",
      "execution_count": 27,
      "outputs": [
        {
          "output_type": "stream",
          "name": "stderr",
          "text": [
            "/usr/local/lib/python3.10/dist-packages/sklearn/linear_model/_logistic.py:458: ConvergenceWarning: lbfgs failed to converge (status=1):\n",
            "STOP: TOTAL NO. of ITERATIONS REACHED LIMIT.\n",
            "\n",
            "Increase the number of iterations (max_iter) or scale the data as shown in:\n",
            "    https://scikit-learn.org/stable/modules/preprocessing.html\n",
            "Please also refer to the documentation for alternative solver options:\n",
            "    https://scikit-learn.org/stable/modules/linear_model.html#logistic-regression\n",
            "  n_iter_i = _check_optimize_result(\n"
          ]
        }
      ]
    },
    {
      "cell_type": "code",
      "execution_count": 28,
      "id": "ba2c00ba",
      "metadata": {
        "id": "ba2c00ba",
        "colab": {
          "base_uri": "https://localhost:8080/",
          "height": 448
        },
        "outputId": "018f4218-0f48-41e1-b572-6c57973ee208"
      },
      "outputs": [
        {
          "output_type": "execute_result",
          "data": {
            "text/plain": [
              "<matplotlib.collections.PathCollection at 0x7f7bfb2a8c70>"
            ]
          },
          "metadata": {},
          "execution_count": 28
        },
        {
          "output_type": "display_data",
          "data": {
            "text/plain": [
              "<Figure size 640x480 with 1 Axes>"
            ],
            "image/png": "[encoded data removed]"
          },
          "metadata": {}
        }
      ],
      "source": [
        "import matplotlib.pyplot as plt\n",
        "x = [1, 2, 3, 4, 5]\n",
        "plt.scatter(x, accuracy_scores)"
      ]
    },
    {
      "cell_type": "markdown",
      "id": "268bb29a",
      "metadata": {
        "id": "268bb29a"
      },
      "source": [
        "# SVC"
      ]
    },
    {
      "cell_type": "code",
      "execution_count": 19,
      "id": "21f5e55e",
      "metadata": {
        "id": "21f5e55e"
      },
      "outputs": [],
      "source": [
        "#Import svm model\n",
        "from sklearn import svm\n",
        "\n",
        "#Create a svm Classifier\n",
        "clf = svm.SVC(kernel='linear')"
      ]
    },
    {
      "cell_type": "code",
      "execution_count": 20,
      "id": "67ded8ad",
      "metadata": {
        "id": "67ded8ad"
      },
      "outputs": [],
      "source": [
        "accuracy_scores = []\n",
        "for i in [(1, 1), (2, 2), (3, 3), (4, 4), (5, 5)]:\n",
        "    vectorizer = CountVectorizer(ngram_range=i)\n",
        "    vectorizer.fit(X_train)\n",
        "    X_train_log = vectorizer.transform(X_train)\n",
        "    X_test_log  = vectorizer.transform(X_test)\n",
        "    clf.fit(X_train_log, y_train)\n",
        "    X_test_log = vectorizer.transform(X_test)\n",
        "    score = clf.score(X_test_log, y_test)\n",
        "    accuracy_scores.append(score)\n",
        "\n"
      ]
    },
    {
      "cell_type": "code",
      "source": [
        "print(accuracy_scores)"
      ],
      "metadata": {
        "colab": {
          "base_uri": "https://localhost:8080/"
        },
        "id": "1a72FbYLO9BR",
        "outputId": "e3cafb65-f47e-46a1-b8ba-6501ae0f8f15"
      },
      "id": "1a72FbYLO9BR",
      "execution_count": 21,
      "outputs": [
        {
          "output_type": "stream",
          "name": "stdout",
          "text": [
            "[0.9658634538152611, 0.9585006693440429, 0.9263721552878179, 0.8888888888888888, 0.8493975903614458]\n"
          ]
        }
      ]
    },
    {
      "cell_type": "code",
      "execution_count": 22,
      "id": "06d1dfe0",
      "metadata": {
        "id": "06d1dfe0",
        "colab": {
          "base_uri": "https://localhost:8080/",
          "height": 448
        },
        "outputId": "8a9c30ea-05e5-4f79-f540-5f14f264e194"
      },
      "outputs": [
        {
          "output_type": "execute_result",
          "data": {
            "text/plain": [
              "<matplotlib.collections.PathCollection at 0x7da279146230>"
            ]
          },
          "metadata": {},
          "execution_count": 22
        },
        {
          "output_type": "display_data",
          "data": {
            "text/plain": [
              "<Figure size 640x480 with 1 Axes>"
            ],
            "image/png": "[encoded data removed]"
          },
          "metadata": {}
        }
      ],
      "source": [
        "x = [1, 2, 3, 4, 5]\n",
        "plt.scatter(x, accuracy_scores)"
      ]
    },
    {
      "cell_type": "markdown",
      "id": "9378bb73",
      "metadata": {
        "id": "9378bb73"
      },
      "source": [
        "# XGBoost"
      ]
    },
    {
      "cell_type": "code",
      "execution_count": 23,
      "id": "b581087a",
      "metadata": {
        "id": "b581087a"
      },
      "outputs": [],
      "source": [
        "import numpy as np\n",
        "import pandas as pd\n",
        "from sklearn.model_selection import GridSearchCV\n",
        "from xgboost import XGBClassifier\n",
        "import xgboost as xgb\n",
        "from sklearn.ensemble import GradientBoostingClassifier"
      ]
    },
    {
      "cell_type": "code",
      "execution_count": 24,
      "id": "3cfad6bc",
      "metadata": {
        "id": "3cfad6bc"
      },
      "outputs": [],
      "source": [
        "clf = GradientBoostingClassifier(n_estimators=100, learning_rate=0.1, max_depth=3, random_state=42)\n",
        "accuracy_scores = []\n",
        "for i in [(1, 1), (2, 2), (3, 3), (4, 4), (5, 5)]:\n",
        "    vectorizer = CountVectorizer(ngram_range=i)\n",
        "    vectorizer.fit(X_train)\n",
        "    X_train_log = vectorizer.transform(X_train)\n",
        "    X_test_log  = vectorizer.transform(X_test)\n",
        "    clf.fit(X_train_log, y_train)\n",
        "    X_test_log = vectorizer.transform(X_test)\n",
        "    score = clf.score(X_test_log, y_test)\n",
        "    accuracy_scores.append(score)"
      ]
    },
    {
      "cell_type": "code",
      "source": [
        "print(accuracy_scores)"
      ],
      "metadata": {
        "colab": {
          "base_uri": "https://localhost:8080/"
        },
        "id": "tg3wPhduSPud",
        "outputId": "94487b5c-daa8-41ea-d3f9-70727ed0d6cd"
      },
      "id": "tg3wPhduSPud",
      "execution_count": 26,
      "outputs": [
        {
          "output_type": "stream",
          "name": "stdout",
          "text": [
            "[0.9551539491298527, 0.9457831325301205, 0.9082998661311914, 0.8761713520749665, 0.8366800535475234]\n"
          ]
        }
      ]
    },
    {
      "cell_type": "code",
      "execution_count": 25,
      "id": "3a76e129",
      "metadata": {
        "id": "3a76e129",
        "colab": {
          "base_uri": "https://localhost:8080/",
          "height": 450
        },
        "outputId": "e0407f52-db0a-4273-bb4d-7be71648f0dd"
      },
      "outputs": [
        {
          "output_type": "execute_result",
          "data": {
            "text/plain": [
              "<matplotlib.collections.PathCollection at 0x7da277e9df60>"
            ]
          },
          "metadata": {},
          "execution_count": 25
        },
        {
          "output_type": "display_data",
          "data": {
            "text/plain": [
              "<Figure size 640x480 with 1 Axes>"
            ],
            "image/png": "[encoded data removed]"
          },
          "metadata": {}
        }
      ],
      "source": [
        "x = [1, 2, 3, 4, 5]\n",
        "plt.scatter(x, accuracy_scores)"
      ]
    },
    {
      "cell_type": "markdown",
      "id": "22f1a64a",
      "metadata": {
        "id": "22f1a64a"
      },
      "source": [
        "To sum up, the best model is SVC with the parameter ngram = 1. The score here is higher than in every model."
      ]
    }
  ],
  "metadata": {
    "kernelspec": {
      "display_name": "Python 3 (ipykernel)",
      "language": "python",
      "name": "python3"
    },
    "language_info": {
      "codemirror_mode": {
        "name": "ipython",
        "version": 3
      },
      "file_extension": ".py",
      "mimetype": "text/x-python",
      "name": "python",
      "nbconvert_exporter": "python",
      "pygments_lexer": "ipython3",
      "version": "3.9.7"
    },
    "colab": {
      "provenance": []
    }
  },
  "nbformat": 4,
  "nbformat_minor": 5
}